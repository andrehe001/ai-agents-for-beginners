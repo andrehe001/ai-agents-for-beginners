{
 "cells": [
  {
   "cell_type": "markdown",
   "metadata": {},
   "source": [
    "# Semantic Kernel Tool Use Example "
   ]
  },
  {
   "cell_type": "markdown",
   "metadata": {},
   "source": [
    "## Import the Needed Packages "
   ]
  },
  {
   "cell_type": "code",
   "execution_count": 1,
   "metadata": {},
   "outputs": [],
   "source": [
    "import json\n",
    "import os\n",
    "\n",
    "from dotenv import load_dotenv\n",
    "\n",
    "from IPython.display import display, HTML\n",
    "\n",
    "from typing import Annotated\n",
    "from openai import AsyncOpenAI\n",
    "\n",
    "from semantic_kernel.agents import ChatCompletionAgent, ChatHistoryAgentThread\n",
    "from semantic_kernel.connectors.ai.open_ai import OpenAIChatCompletion\n",
    "from semantic_kernel.contents import FunctionCallContent, FunctionResultContent, StreamingTextContent\n",
    "from semantic_kernel.functions import kernel_function"
   ]
  },
  {
   "cell_type": "markdown",
   "metadata": {},
   "source": [
    "## Creating the Plugins    \n",
    "Semantic Kernel uses plugins as tools that can be called by the agent. A plugin can have multiple `kernel_functions` in it as a group. \n",
    "\n",
    "In the example below, we create a `DestinationsPlugin` that has two functions: \n",
    "1. Provides a list of destinations using the `get_destinations` function\n",
    "2. Provides a lis of availablity for each destination using the `get_availabilty` function, "
   ]
  },
  {
   "cell_type": "code",
   "execution_count": 2,
   "metadata": {},
   "outputs": [],
   "source": [
    "# Define a sample plugin for the sample\n",
    "class DestinationsPlugin:\n",
    "    \"\"\"A List of Destinations for vacation.\"\"\"\n",
    "\n",
    "    @kernel_function(description=\"Provides a list of vacation destinations.\")\n",
    "    def get_destinations(self) -> Annotated[str, \"Returns the vacation destinations.\"]:\n",
    "        return \"\"\"\n",
    "        Barcelona, Spain\n",
    "        Paris, France\n",
    "        Berlin, Germany\n",
    "        Tokyo, Japan\n",
    "        New York, USA\n",
    "        \"\"\"\n",
    "\n",
    "    @kernel_function(description=\"Provides the availability of a destination.\")\n",
    "    def get_availability(\n",
    "        self, destination: Annotated[str, \"The destination to check availability for.\"]\n",
    "    ) -> Annotated[str, \"Returns the availability of the destination.\"]:\n",
    "        return \"\"\"\n",
    "        Barcelona - Unavailable\n",
    "        Paris - Available\n",
    "        Berlin - Available\n",
    "        Tokyo - Unavailable\n",
    "        New York - Available\n",
    "        \"\"\"\n",
    "    @kernel_function(description=\"Provides the price of a destination.\")\n",
    "    def get_price(\n",
    "        self, destination: Annotated[str, \"The destination to check price for.\"]\n",
    "    ) -> Annotated[str, \"Returns the price of the destination.\"]:\n",
    "        return \"\"\"\n",
    "        Barcelona - $2000\n",
    "        Paris - $2500\n",
    "        Berlin - $1800\n",
    "        Tokyo - $3000\n",
    "        New York - $3500\n",
    "        \"\"\"\n",
    "    @kernel_function(description=\"Provides the weather of a destination.\")\n",
    "    def get_weather(\n",
    "        self, destination: Annotated[str, \"The destination to check weather for.\"]\n",
    "    ) -> Annotated[str, \"Returns the weather of the destination.\"]:\n",
    "        return \"\"\"\n",
    "        Barcelona - Sunny\n",
    "        Paris - Rainy\n",
    "        Berlin - Cloudy\n",
    "        Tokyo - Sunny\n",
    "        New York - Snowy\n",
    "        \"\"\"\n",
    "    @kernel_function(description=\"Provides the activities of a destination.\")\n",
    "    def get_activities(\n",
    "        self, destination: Annotated[str, \"The destination to check activities for.\"]\n",
    "    ) -> Annotated[str, \"Returns the activities of the destination.\"]:\n",
    "        return \"\"\"\n",
    "        Barcelona - Beach, Sightseeing\n",
    "        Paris - Museums, Shopping\n",
    "        Berlin - History, Nightlife\n",
    "        Tokyo - Culture, Food\n",
    "        New York - Broadway, Parks\n",
    "        \"\"\"\n",
    "    @kernel_function(description=\"Provides the culture of a destination.\")\n",
    "    def get_culture(\n",
    "        self, destination: Annotated[str, \"The destination to check culture for.\"]\n",
    "    ) -> Annotated[str, \"Returns the culture of the destination.\"]:\n",
    "        return \"\"\"\n",
    "        Barcelona - Art, Architecture\n",
    "        Paris - Fashion, Cuisine\n",
    "        Berlin - History, Music\n",
    "        Tokyo - Tradition, Technology\n",
    "        New York - Diversity, Arts\n",
    "        \"\"\"\n",
    "    @kernel_function(description=\"Provides the cuisine of a destination.\")\n",
    "    def get_cuisine(\n",
    "        self, destination: Annotated[str, \"The destination to check cuisine for.\"]\n",
    "    ) -> Annotated[str, \"Returns the cuisine of the destination.\"]:\n",
    "        return \"\"\"\n",
    "        Barcelona - Tapas\n",
    "        Paris - French\n",
    "        Berlin - German\n",
    "        Tokyo - Sushi\n",
    "        New York - American\n",
    "        \"\"\"\n",
    "    @kernel_function(description=\"Provides the transportation of a destination.\")\n",
    "    def get_transportation(\n",
    "        self, destination: Annotated[str, \"The destination to check transportation for.\"]\n",
    "    ) -> Annotated[str, \"Returns the transportation of the destination.\"]:\n",
    "        return \"\"\"\n",
    "        Barcelona - Metro, Bus\n",
    "        Paris - Metro, Bus\n",
    "        Berlin - U-Bahn, S-Bahn\n",
    "        Tokyo - Train, Subway\n",
    "        New York - Subway, Bus\n",
    "        \"\"\"\n",
    "    @kernel_function(description=\"Provides the safety of a destination.\")\n",
    "    def get_safety(\n",
    "        self, destination: Annotated[str, \"The destination to check safety for.\"]\n",
    "    ) -> Annotated[str, \"Returns the safety of the destination.\"]:\n",
    "        return \"\"\"\n",
    "        Barcelona - Safe\n",
    "        Paris - Safe\n",
    "        Berlin - Safe\n",
    "        Tokyo - Very Safe\n",
    "        New York - Safe\n",
    "        \"\"\"\n",
    "    @kernel_function(description=\"Provides the language of a destination.\")\n",
    "    def get_language(\n",
    "        self, destination: Annotated[str, \"The destination to check language for.\"]\n",
    "    ) -> Annotated[str, \"Returns the language of the destination.\"]:\n",
    "        return \"\"\"\n",
    "        Barcelona - Spanish\n",
    "        Paris - French\n",
    "        Berlin - German\n",
    "        Tokyo - Japanese\n",
    "        New York - English\n",
    "        \"\"\"\n",
    "    @kernel_function(description=\"Provides the time zone of a destination.\")\n",
    "    def get_time_zone(\n",
    "        self, destination: Annotated[str, \"The destination to check time zone for.\"]\n",
    "    ) -> Annotated[str, \"Returns the time zone of the destination.\"]:\n",
    "        return \"\"\"\n",
    "        Barcelona - CET\n",
    "        Paris - CET\n",
    "        Berlin - CET\n",
    "        Tokyo - JST\n",
    "        New York - EST\n",
    "        \"\"\"\n",
    "    @kernel_function(description=\"Provides the best time to visit a destination.\")\n",
    "    def get_best_time_to_visit(\n",
    "        self, destination: Annotated[str, \"The destination to check best time to visit for.\"]\n",
    "    ) -> Annotated[str, \"Returns the best time to visit the destination.\"]:\n",
    "        return \"\"\"\n",
    "        Barcelona - Spring\n",
    "        Paris - Spring\n",
    "        Berlin - Summer\n",
    "        Tokyo - Spring\n",
    "        New York - Fall\n",
    "        \"\"\""
   ]
  },
  {
   "cell_type": "markdown",
   "metadata": {},
   "source": [
    "## Creating the Client\n",
    "\n",
    "In this sample, we will use [GitHub Models](https://aka.ms/ai-agents-beginners/github-models) for access to the LLM. \n",
    "\n",
    "The `ai_model_id` is defined as `gpt-4o-mini`. Try changing the model to another model available on the GitHub Models marketplace to see the different results. \n",
    "\n",
    "For us to use the `Azure Inference SDK` that is used for the `base_url` for GitHub Models, we will use the `OpenAIChatCompletion` connector within Semantic Kernel. There are also other [available connectors](https://learn.microsoft.com/semantic-kernel/concepts/ai-services/chat-completion) to use Semantic Kernel for other model providers."
   ]
  },
  {
   "cell_type": "code",
   "execution_count": 3,
   "metadata": {},
   "outputs": [],
   "source": [
    "load_dotenv()\n",
    "client = AsyncOpenAI(\n",
    "    api_key=os.getenv(\"GITHUB_TOKEN\"), \n",
    "    base_url=\"https://models.inference.ai.azure.com/\",\n",
    ")\n",
    "\n",
    "chat_completion_service = OpenAIChatCompletion(\n",
    "    ai_model_id=\"gpt-4o-mini\",\n",
    "    async_client=client,\n",
    ")"
   ]
  },
  {
   "cell_type": "markdown",
   "metadata": {},
   "source": [
    "## Creating the Agent \n",
    "Now we will create the Agent by using the Agent Name and Instructions that we can set. \n",
    "\n",
    "You can change these settings to see how the differences in the agent's response. "
   ]
  },
  {
   "cell_type": "code",
   "execution_count": 4,
   "metadata": {},
   "outputs": [],
   "source": [
    "# Create the agent\n",
    "agent = ChatCompletionAgent(\n",
    "    service=chat_completion_service,\n",
    "    name=\"TravelAgent\",\n",
    "    instructions=\"Answer questions about the travel destinations, price, weather, activities, culture, cuisine, transportation, safety, language, time zone, and their availability.\",\n",
    "    plugins=[DestinationsPlugin()],\n",
    ")"
   ]
  },
  {
   "cell_type": "markdown",
   "metadata": {},
   "source": [
    "## Running the Agent \n",
    "\n",
    "Now we wil run the AI Agent. In this snippet, we can add two messages to the `user_input` to show how the agent responds to followup questions. \n",
    "\n",
    "The agent should call the correct function to get the list of available destinations and confirm the availablity of a certain location. \n",
    "\n",
    "You can change the `user_inputs` to see how the agent responds. "
   ]
  },
  {
   "cell_type": "code",
   "execution_count": 5,
   "metadata": {},
   "outputs": [
    {
     "data": {
      "text/html": [
       "<div style='margin-bottom:10px'><div style='font-weight:bold'>User:</div><div style='margin-left:20px'>What destinations are available?</div></div><div style='margin-bottom:20px'><div style='font-weight:bold'>TravelAgent:</div><div style='margin-left:20px; white-space:pre-wrap'>The available travel destinations are:\n",
       "\n",
       "1. Barcelona, Spain\n",
       "2. Paris, France\n",
       "3. Berlin, Germany\n",
       "4. Tokyo, Japan\n",
       "5. New York, USA</div></div><hr>"
      ],
      "text/plain": [
       "<IPython.core.display.HTML object>"
      ]
     },
     "metadata": {},
     "output_type": "display_data"
    },
    {
     "data": {
      "text/html": [
       "<div style='margin-bottom:10px'><div style='font-weight:bold'>User:</div><div style='margin-left:20px'>Is Barcelona available?</div></div><div style='margin-bottom:20px'><div style='font-weight:bold'>TravelAgent:</div><div style='margin-left:20px; white-space:pre-wrap'>Barcelona is currently unavailable.</div></div><hr>"
      ],
      "text/plain": [
       "<IPython.core.display.HTML object>"
      ]
     },
     "metadata": {},
     "output_type": "display_data"
    },
    {
     "data": {
      "text/html": [
       "<div style='margin-bottom:10px'><div style='font-weight:bold'>User:</div><div style='margin-left:20px'>Are there any vacation destinations available not in Europe?</div></div><div style='margin-bottom:20px'><div style='font-weight:bold'>TravelAgent:</div><div style='margin-left:20px; white-space:pre-wrap'>Yes, the following vacation destinations are available outside of Europe:\n",
       "\n",
       "1. Tokyo, Japan\n",
       "2. New York, USA</div></div><hr>"
      ],
      "text/plain": [
       "<IPython.core.display.HTML object>"
      ]
     },
     "metadata": {},
     "output_type": "display_data"
    },
    {
     "data": {
      "text/html": [
       "<div style='margin-bottom:10px'><div style='font-weight:bold'>User:</div><div style='margin-left:20px'>What is the price of Paris?</div></div><div style='margin-bottom:20px'><div style='font-weight:bold'>TravelAgent:</div><div style='margin-left:20px; white-space:pre-wrap'>The price for a vacation in Paris, France, is $2500.</div></div><hr>"
      ],
      "text/plain": [
       "<IPython.core.display.HTML object>"
      ]
     },
     "metadata": {},
     "output_type": "display_data"
    },
    {
     "data": {
      "text/html": [
       "<div style='margin-bottom:10px'><div style='font-weight:bold'>User:</div><div style='margin-left:20px'>What is the weather in Berlin?</div></div><div style='margin-bottom:20px'><div style='font-weight:bold'>TravelAgent:</div><div style='margin-left:20px; white-space:pre-wrap'>The weather in Berlin, Germany, is currently cloudy.</div></div><hr>"
      ],
      "text/plain": [
       "<IPython.core.display.HTML object>"
      ]
     },
     "metadata": {},
     "output_type": "display_data"
    },
    {
     "data": {
      "text/html": [
       "<div style='margin-bottom:10px'><div style='font-weight:bold'>User:</div><div style='margin-left:20px'>What activities can I do in Tokyo?</div></div><div style='margin-bottom:20px'><div style='font-weight:bold'>TravelAgent:</div><div style='margin-left:20px; white-space:pre-wrap'>In Tokyo, Japan, you can enjoy the following activities:\n",
       "\n",
       "- Explore the local culture\n",
       "- Experience diverse food options</div></div><hr>"
      ],
      "text/plain": [
       "<IPython.core.display.HTML object>"
      ]
     },
     "metadata": {},
     "output_type": "display_data"
    },
    {
     "data": {
      "text/html": [
       "<div style='margin-bottom:10px'><div style='font-weight:bold'>User:</div><div style='margin-left:20px'>What is the culture of New York?</div></div><div style='margin-bottom:20px'><div style='font-weight:bold'>TravelAgent:</div><div style='margin-left:20px; white-space:pre-wrap'>The culture of New York, USA, is characterized by:\n",
       "\n",
       "- Diversity\n",
       "- Arts</div></div><hr>"
      ],
      "text/plain": [
       "<IPython.core.display.HTML object>"
      ]
     },
     "metadata": {},
     "output_type": "display_data"
    },
    {
     "data": {
      "text/html": [
       "<div style='margin-bottom:10px'><div style='font-weight:bold'>User:</div><div style='margin-left:20px'>What is the cuisine of Barcelona?</div></div><div style='margin-bottom:20px'><div style='font-weight:bold'>TravelAgent:</div><div style='margin-left:20px; white-space:pre-wrap'>The cuisine of Barcelona, Spain, is known for its delicious tapas.</div></div><hr>"
      ],
      "text/plain": [
       "<IPython.core.display.HTML object>"
      ]
     },
     "metadata": {},
     "output_type": "display_data"
    },
    {
     "data": {
      "text/html": [
       "<div style='margin-bottom:10px'><div style='font-weight:bold'>User:</div><div style='margin-left:20px'>What is the transportation like in Paris?</div></div><div style='margin-bottom:20px'><div style='font-weight:bold'>TravelAgent:</div><div style='margin-left:20px; white-space:pre-wrap'>Transportation in Paris, France, includes:\n",
       "\n",
       "- Metro\n",
       "- Bus</div></div><hr>"
      ],
      "text/plain": [
       "<IPython.core.display.HTML object>"
      ]
     },
     "metadata": {},
     "output_type": "display_data"
    },
    {
     "data": {
      "text/html": [
       "<div style='margin-bottom:10px'><div style='font-weight:bold'>User:</div><div style='margin-left:20px'>Is Berlin safe?</div></div><div style='margin-bottom:20px'><div style='font-weight:bold'>TravelAgent:</div><div style='margin-left:20px; white-space:pre-wrap'>Yes, Berlin, Germany, is considered safe.</div></div><hr>"
      ],
      "text/plain": [
       "<IPython.core.display.HTML object>"
      ]
     },
     "metadata": {},
     "output_type": "display_data"
    },
    {
     "data": {
      "text/html": [
       "<div style='margin-bottom:10px'><div style='font-weight:bold'>User:</div><div style='margin-left:20px'>What language is spoken in Tokyo?</div></div><div style='margin-bottom:20px'><div style='font-weight:bold'>TravelAgent:</div><div style='margin-left:20px; white-space:pre-wrap'>The language spoken in Tokyo, Japan, is Japanese.</div></div><hr>"
      ],
      "text/plain": [
       "<IPython.core.display.HTML object>"
      ]
     },
     "metadata": {},
     "output_type": "display_data"
    },
    {
     "data": {
      "text/html": [
       "<div style='margin-bottom:10px'><div style='font-weight:bold'>User:</div><div style='margin-left:20px'>What is the time zone of New York?</div></div><div style='margin-bottom:20px'><div style='font-weight:bold'>TravelAgent:</div><div style='margin-left:20px; white-space:pre-wrap'>The time zone of New York, USA, is Eastern Standard Time (EST).</div></div><hr>"
      ],
      "text/plain": [
       "<IPython.core.display.HTML object>"
      ]
     },
     "metadata": {},
     "output_type": "display_data"
    },
    {
     "data": {
      "text/html": [
       "<div style='margin-bottom:10px'><div style='font-weight:bold'>User:</div><div style='margin-left:20px'>What is the best time to visit Barcelona?</div></div><div style='margin-bottom:20px'><div style='font-weight:bold'>TravelAgent:</div><div style='margin-left:20px; white-space:pre-wrap'>The best time to visit Barcelona, Spain, is during the spring.</div></div><hr>"
      ],
      "text/plain": [
       "<IPython.core.display.HTML object>"
      ]
     },
     "metadata": {},
     "output_type": "display_data"
    }
   ],
   "source": [
    "user_inputs = [\n",
    "    \"What destinations are available?\",\n",
    "    \"Is Barcelona available?\",\n",
    "    \"Are there any vacation destinations available not in Europe?\",\n",
    "    \"What is the price of Paris?\",\n",
    "    \"What is the weather in Berlin?\",\n",
    "    \"What activities can I do in Tokyo?\",\n",
    "    \"What is the culture of New York?\",\n",
    "    \"What is the cuisine of Barcelona?\",\n",
    "    \"What is the transportation like in Paris?\",\n",
    "    \"Is Berlin safe?\",\n",
    "    \"What language is spoken in Tokyo?\",\n",
    "    \"What is the time zone of New York?\",\n",
    "    \"What is the best time to visit Barcelona?\"\n",
    "]\n",
    "\n",
    "async def main():\n",
    "    thread: ChatHistoryAgentThread | None = None\n",
    "\n",
    "    for user_input in user_inputs:\n",
    "        html_output = (\n",
    "            f\"<div style='margin-bottom:10px'>\"\n",
    "            f\"<div style='font-weight:bold'>User:</div>\"\n",
    "            f\"<div style='margin-left:20px'>{user_input}</div></div>\"\n",
    "        )\n",
    "\n",
    "        agent_name = None\n",
    "        full_response: list[str] = []\n",
    "        function_calls: list[str] = []\n",
    "\n",
    "        # Buffer to reconstruct streaming function call\n",
    "        current_function_name = None\n",
    "        argument_buffer = \"\"\n",
    "\n",
    "        async for response in agent.invoke_stream(\n",
    "            messages=user_input,\n",
    "            thread=thread,\n",
    "        ):\n",
    "            thread = response.thread\n",
    "            agent_name = response.name\n",
    "            content_items = list(response.items)\n",
    "\n",
    "            for item in content_items:\n",
    "                if isinstance(item, FunctionCallContent):\n",
    "                    if item.function_name:\n",
    "                        current_function_name = item.function_name\n",
    "\n",
    "                    # Accumulate arguments (streamed in chunks)\n",
    "                    if isinstance(item.arguments, str):\n",
    "                        argument_buffer += item.arguments\n",
    "                elif isinstance(item, FunctionResultContent):\n",
    "                    # Finalize any pending function call before showing result\n",
    "                    if current_function_name:\n",
    "                        formatted_args = argument_buffer.strip()\n",
    "                        try:\n",
    "                            parsed_args = json.loads(formatted_args)\n",
    "                            formatted_args = json.dumps(parsed_args)\n",
    "                        except Exception:\n",
    "                            pass  # leave as raw string\n",
    "\n",
    "                        function_calls.append(f\"Calling function: {current_function_name}({formatted_args})\")\n",
    "                        current_function_name = None\n",
    "                        argument_buffer = \"\"\n",
    "\n",
    "                    function_calls.append(f\"\\nFunction Result:\\n\\n{item.result}\")\n",
    "                elif isinstance(item, StreamingTextContent) and item.text:\n",
    "                    full_response.append(item.text)\n",
    "\n",
    "        if function_calls:\n",
    "            html_output += (\n",
    "                \"<div style='margin-bottom:10px'>\"\n",
    "                \"<details>\"\n",
    "                \"<summary style='cursor:pointer; font-weight:bold; color:#0066cc;'>Function Calls (click to expand)</summary>\"\n",
    "                \"<div style='margin:10px; padding:10px; background-color:#f8f8f8; \"\n",
    "                \"border:1px solid #ddd; border-radius:4px; white-space:pre-wrap; font-size:14px; color:#333;'>\"\n",
    "                f\"{chr(10).join(function_calls)}\"\n",
    "                \"</div></details></div>\"\n",
    "            )\n",
    "\n",
    "        html_output += (\n",
    "            \"<div style='margin-bottom:20px'>\"\n",
    "            f\"<div style='font-weight:bold'>{agent_name or 'Assistant'}:</div>\"\n",
    "            f\"<div style='margin-left:20px; white-space:pre-wrap'>{''.join(full_response)}</div></div><hr>\"\n",
    "        )\n",
    "\n",
    "        display(HTML(html_output))\n",
    "\n",
    "await main()"
   ]
  }
 ],
 "metadata": {
  "kernelspec": {
   "display_name": ".venv",
   "language": "python",
   "name": "python3"
  },
  "language_info": {
   "codemirror_mode": {
    "name": "ipython",
    "version": 3
   },
   "file_extension": ".py",
   "mimetype": "text/x-python",
   "name": "python",
   "nbconvert_exporter": "python",
   "pygments_lexer": "ipython3",
   "version": "3.11.11"
  }
 },
 "nbformat": 4,
 "nbformat_minor": 2
}

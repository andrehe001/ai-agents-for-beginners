{
 "cells": [
  {
   "cell_type": "code",
   "execution_count": 1,
   "id": "326b7e13",
   "metadata": {},
   "outputs": [],
   "source": [
    "import os \n",
    "from openai import AzureOpenAI\n",
    "from dotenv import load_dotenv"
   ]
  },
  {
   "cell_type": "code",
   "execution_count": 2,
   "id": "bd875b42",
   "metadata": {},
   "outputs": [],
   "source": [
    "# Initialize the Azure OpenAI client\n",
    "load_dotenv()\n",
    " # Initialize the Azure OpenAI client\n",
    "client = AzureOpenAI(\n",
    "     azure_endpoint = os.getenv(\"AZURE_OPENAI_ENDPOINT\"), \n",
    "     api_key=os.getenv(\"AZURE_OPENAI_API_KEY\"),  \n",
    "     api_version=os.getenv(\"AZURE_OPENAI_API_VERSION\")\n",
    " )"
   ]
  },
  {
   "cell_type": "code",
   "execution_count": 3,
   "id": "676f6dd8",
   "metadata": {},
   "outputs": [],
   "source": [
    "# Function description for the model to read\n",
    "tools = [\n",
    "     {\n",
    "         \"type\": \"function\",\n",
    "         \"function\": {\n",
    "             \"name\": \"get_current_time\",\n",
    "             \"description\": \"Get the current time in a given location\",\n",
    "             \"parameters\": {\n",
    "                 \"type\": \"object\",\n",
    "                 \"properties\": {\n",
    "                     \"location\": {\n",
    "                         \"type\": \"string\",\n",
    "                         \"description\": \"The city name, e.g. San Francisco\",\n",
    "                     },\n",
    "                 },\n",
    "                 \"required\": [\"location\"],\n",
    "             },\n",
    "         }\n",
    "     },\n",
    "     {\n",
    "            \"type\": \"function\",\n",
    "            \"function\": {\n",
    "                \"name\": \"get_weather\",\n",
    "                \"description\": \"Get the current weather in a given location\",\n",
    "                \"parameters\": {\n",
    "                    \"type\": \"object\",\n",
    "                    \"properties\": {\n",
    "                        \"location\": {\n",
    "                            \"type\": \"string\",\n",
    "                            \"description\": \"The city name, e.g. San Francisco\",\n",
    "                        },\n",
    "                    },\n",
    "                    \"required\": [\"location\"],\n",
    "                },\n",
    "            }\n",
    "     }\n",
    " ]"
   ]
  },
  {
   "cell_type": "code",
   "execution_count": 7,
   "id": "7a81e2e8",
   "metadata": {},
   "outputs": [
    {
     "name": "stdout",
     "output_type": "stream",
     "text": [
      "Model's response:\n",
      "ChatCompletionMessage(content=None, refusal=None, role='assistant', annotations=None, audio=None, function_call=None, tool_calls=[ChatCompletionMessageToolCall(id='call_zx7EIwmhPiEKgwRN0InoO57F', function=Function(arguments='{\"location\":\"San Francisco\"}', name='get_current_time'), type='function')])\n"
     ]
    }
   ],
   "source": [
    "# Initial user message\n",
    "messages = [{\"role\": \"user\", \"content\": \"What's the current time in San Francisco\"}] \n",
    "# messages = [{\"role\": \"user\", \"content\": \"What's the weather like in San Francisco?\"}]  \n",
    " # First API call: Ask the model to use the function\n",
    "response = client.chat.completions.create(\n",
    "       model=\"gpt-4.1\",\n",
    "       messages=messages,\n",
    "       tools=tools,\n",
    "       tool_choice=\"auto\",\n",
    "   )\n",
    "  \n",
    "   # Process the model's response\n",
    "response_message = response.choices[0].message\n",
    "messages.append(response_message)\n",
    "  \n",
    "print(\"Model's response:\")  \n",
    "\n",
    "print(response_message)"
   ]
  },
  {
   "cell_type": "code",
   "execution_count": 8,
   "id": "60ddaa22",
   "metadata": {},
   "outputs": [],
   "source": [
    "from zoneinfo import ZoneInfo\n",
    "import json\n",
    "from datetime import datetime\n",
    "\n",
    "# Define timezone data mapping\n",
    "TIMEZONE_DATA = {\n",
    "    \"san francisco\": \"America/Los_Angeles\",\n",
    "    \"new york\": \"America/New_York\",\n",
    "    \"london\": \"Europe/London\",\n",
    "    \"tokyo\": \"Asia/Tokyo\",\n",
    "    \"sydney\": \"Australia/Sydney\"\n",
    "}\n",
    "\n",
    "def get_current_time(location):\n",
    "     \"\"\"Get the current time for a given location\"\"\"\n",
    "     print(f\"get_current_time called with location: {location}\")  \n",
    "     location_lower = location.lower()\n",
    "        \n",
    "     for key, timezone in TIMEZONE_DATA.items():\n",
    "         if key in location_lower:\n",
    "             print(f\"Timezone found for {key}\")  \n",
    "             current_time = datetime.now(ZoneInfo(timezone)).strftime(\"%I:%M %p\")\n",
    "             return json.dumps({\n",
    "                 \"location\": location,\n",
    "                 \"current_time\": current_time\n",
    "             })\n",
    "      \n",
    "     print(f\"No timezone data found for {location_lower}\")  \n",
    "     return json.dumps({\"location\": location, \"current_time\": \"unknown\"})\n",
    " \n",
    "\n",
    "def get_weather(location):\n",
    "     \"\"\"Get the current weather for a given location\"\"\"\n",
    "     print(f\"get_weather called with location: {location}\")  \n",
    "     location_lower = location.lower()\n",
    "        \n",
    "     for key, timezone in TIMEZONE_DATA.items():\n",
    "         if key in location_lower:\n",
    "             print(f\"Timezone found for {key}\")  \n",
    "             return json.dumps({\n",
    "                 \"location\": location,\n",
    "                 \"weather\": \"sunny\"\n",
    "             })\n",
    "      \n",
    "     print(f\"No timezone data found for {location_lower}\")  \n",
    "     return json.dumps({\"location\": location, \"weather\": \"unknown\"})"
   ]
  },
  {
   "cell_type": "code",
   "execution_count": 9,
   "id": "35713cef",
   "metadata": {},
   "outputs": [
    {
     "name": "stdout",
     "output_type": "stream",
     "text": [
      "get_current_time called with location: San Francisco\n",
      "Timezone found for san francisco\n",
      "The current time in San Francisco is 2:18 AM.\n"
     ]
    }
   ],
   "source": [
    "def handle_tool_calls(response_message, messages):\n",
    "    # Handle function calls\n",
    "    if response_message.tool_calls:\n",
    "        for tool_call in response_message.tool_calls:\n",
    "            if tool_call.function.name == \"get_current_time\":\n",
    "                function_args = json.loads(tool_call.function.arguments)\n",
    "                time_response = get_current_time(\n",
    "                    location=function_args.get(\"location\")\n",
    "                )\n",
    "                messages.append({\n",
    "                    \"tool_call_id\": tool_call.id,\n",
    "                    \"role\": \"tool\",\n",
    "                    \"name\": \"get_current_time\",\n",
    "                    \"content\": time_response,\n",
    "                })\n",
    "            elif tool_call.function.name == \"get_weather\":\n",
    "                function_args = json.loads(tool_call.function.arguments)\n",
    "                weather_response = get_weather(\n",
    "                    location=function_args.get(\"location\")\n",
    "                )\n",
    "                messages.append({\n",
    "                    \"tool_call_id\": tool_call.id,\n",
    "                    \"role\": \"tool\",\n",
    "                    \"name\": \"get_weather\",\n",
    "                    \"content\": weather_response,\n",
    "                })\n",
    "    else:\n",
    "        print(\"No tool calls were made by the model.\")  \n",
    "\n",
    "    # Second API call: Get the final response from the model\n",
    "    final_response = client.chat.completions.create(\n",
    "        model=\"gpt-4.1\",\n",
    "        messages=messages,\n",
    "    )\n",
    "    return final_response.choices[0].message.content\n",
    "\n",
    "# Call the function and print the result\n",
    "result = handle_tool_calls(response_message, messages)\n",
    "print(result)"
   ]
  }
 ],
 "metadata": {
  "kernelspec": {
   "display_name": "Python 3",
   "language": "python",
   "name": "python3"
  },
  "language_info": {
   "codemirror_mode": {
    "name": "ipython",
    "version": 3
   },
   "file_extension": ".py",
   "mimetype": "text/x-python",
   "name": "python",
   "nbconvert_exporter": "python",
   "pygments_lexer": "ipython3",
   "version": "3.12.1"
  }
 },
 "nbformat": 4,
 "nbformat_minor": 5
}

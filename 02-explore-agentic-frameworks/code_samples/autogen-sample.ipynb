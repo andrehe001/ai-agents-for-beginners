{
 "cells": [
  {
   "cell_type": "code",
   "execution_count": 1,
   "id": "410ff805",
   "metadata": {},
   "outputs": [],
   "source": [
    "import asyncio\n",
    "import os\n",
    "from dotenv import load_dotenv\n",
    "from autogen_ext.models.openai import OpenAIChatCompletionClient\n",
    "from autogen_agentchat.agents import AssistantAgent\n",
    "from autogen_agentchat.teams import SelectorGroupChat\n",
    "from autogen_agentchat.conditions import TextMentionTermination\n",
    "from autogen_agentchat.ui import Console\n",
    "from azure.core.credentials import AzureKeyCredential\n",
    "from autogen_core.models import UserMessage\n",
    "from autogen_ext.models.azure import AzureAIChatCompletionClient\n",
    "from azure.core.credentials import AzureKeyCredential\n",
    "from autogen_core import CancellationToken\n",
    "\n",
    "from autogen_agentchat.messages import TextMessage\n",
    "from autogen_agentchat.ui import Console\n"
   ]
  },
  {
   "cell_type": "code",
   "execution_count": 2,
   "id": "5fc80b18",
   "metadata": {},
   "outputs": [
    {
     "name": "stdout",
     "output_type": "stream",
     "text": [
      "finish_reason='stop' content='The capital of France is Paris.' usage=RequestUsage(prompt_tokens=14, completion_tokens=8) cached=False logprobs=None thought=None\n"
     ]
    }
   ],
   "source": [
    "load_dotenv()\n",
    "client = AzureAIChatCompletionClient(\n",
    "    model=\"gpt-4o-mini\",\n",
    "    endpoint=\"https://models.inference.ai.azure.com\",\n",
    "    # To authenticate with the model you will need to generate a personal access token (PAT) in your GitHub settings.\n",
    "    # Create your PAT token by following instructions here: https://docs.github.com/en/authentication/keeping-your-account-and-data-secure/managing-your-personal-access-tokens\n",
    "    credential=AzureKeyCredential(os.getenv(\"GITHUB_TOKEN\")),\n",
    "    model_info={\n",
    "        \"json_output\": True,\n",
    "        \"function_calling\": True,\n",
    "        \"vision\": True,\n",
    "        \"family\": \"unknown\",\n",
    "    },\n",
    ")\n",
    "\n",
    "result = await client.create([UserMessage(content=\"What is the capital of France?\", source=\"user\")])\n",
    "print(result)"
   ]
  },
  {
   "cell_type": "code",
   "execution_count": 4,
   "id": "24490063",
   "metadata": {},
   "outputs": [
    {
     "name": "stdout",
     "output_type": "stream",
     "text": [
      "---------- user ----------\n",
      "3 day trip to rome\n",
      "---------- Travel_Advisor ----------\n",
      "[FunctionCall(id='call_5zYwjTV9nt6coIYXNRhDczbx', arguments='{}', name='book_trip')]\n",
      "---------- Travel_Advisor ----------\n",
      "[FunctionExecutionResult(content='Your trip is booked!', call_id='call_5zYwjTV9nt6coIYXNRhDczbx')]\n",
      "---------- Travel_Advisor ----------\n",
      "Your trip is booked!\n",
      "---------- Hotel_Agent ----------\n",
      "Thank you! If you need any assistance with your trip to Rome, such as finding accommodations, attractions, or restaurants, just let me know!\n",
      "---------- Flight_Agent ----------\n",
      "TERMINATE\n"
     ]
    }
   ],
   "source": [
    "import nest_asyncio, asyncio\n",
    "\n",
    "# Prompt the user for the trip request and run the multi‑agent workflow\n",
    "\n",
    "nest_asyncio.apply()  # allow nested event loops inside Jupyter\n",
    "\n",
    "\n",
    "async def book_trip_interactive() -> None:\n",
    "    user_task = input(\"Please describe the trip you'd like to book: \")\n",
    "\n",
    "    async def lookup_hotel(location: str) -> str:\n",
    "        return f\"Here are some hotels in {location}: hotel1, hotel2, hotel3.\"\n",
    "\n",
    "    async def lookup_flight(origin: str, destination: str) -> str:\n",
    "        return f\"Here are some flights from {origin} to {destination}: flight1, flight2, flight3.\"\n",
    "\n",
    "    async def book_trip() -> str:\n",
    "        return \"Your trip is booked!\"\n",
    "\n",
    "    travel_advisor = AssistantAgent(\n",
    "        \"Travel_Advisor\",\n",
    "        model_client=client,\n",
    "        tools=[book_trip],\n",
    "        description=\"Helps with travel planning.\",\n",
    "    )\n",
    "    hotel_agent = AssistantAgent(\n",
    "        \"Hotel_Agent\",\n",
    "        model_client=client,\n",
    "        tools=[lookup_hotel],\n",
    "        description=\"Helps with hotel booking.\",\n",
    "    )\n",
    "    flight_agent = AssistantAgent(\n",
    "        \"Flight_Agent\",\n",
    "        model_client=client,\n",
    "        tools=[lookup_flight],\n",
    "        description=\"Helps with flight booking.\",\n",
    "    )\n",
    "\n",
    "    termination = TextMentionTermination(\"TERMINATE\")\n",
    "    team = SelectorGroupChat(\n",
    "        [travel_advisor, hotel_agent, flight_agent],\n",
    "        model_client=client,\n",
    "        termination_condition=termination,\n",
    "    )\n",
    "\n",
    "    # Stream the multi‑agent chat to the notebook console\n",
    "    await Console(team.run_stream(task=user_task))  # type: ignore\n",
    "    # Give the user the option to start a new chat or end the session\n",
    "    while True:\n",
    "        user_task = input(\"Please describe the trip you'd like to book: \")\n",
    "        if user_task.lower() == \"exit\":\n",
    "            break\n",
    "        await Console(team.run_stream(task=user_task))  # type: ignore\n",
    "        \n",
    "        \n",
    "# Run the interactive trip booking\n",
    "await book_trip_interactive()"
   ]
  }
 ],
 "metadata": {
  "kernelspec": {
   "display_name": "Python 3",
   "language": "python",
   "name": "python3"
  },
  "language_info": {
   "codemirror_mode": {
    "name": "ipython",
    "version": 3
   },
   "file_extension": ".py",
   "mimetype": "text/x-python",
   "name": "python",
   "nbconvert_exporter": "python",
   "pygments_lexer": "ipython3",
   "version": "3.12.1"
  }
 },
 "nbformat": 4,
 "nbformat_minor": 5
}

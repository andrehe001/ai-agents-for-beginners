{
 "cells": [
  {
   "cell_type": "code",
   "execution_count": 1,
   "id": "b183552a",
   "metadata": {},
   "outputs": [
    {
     "data": {
      "text/plain": [
       "True"
      ]
     },
     "execution_count": 1,
     "metadata": {},
     "output_type": "execute_result"
    }
   ],
   "source": [
    "import asyncio\n",
    "from typing import Annotated\n",
    "\n",
    "from semantic_kernel.connectors.ai import FunctionChoiceBehavior\n",
    "from semantic_kernel.connectors.ai.open_ai import AzureChatCompletion, AzureChatPromptExecutionSettings\n",
    "from semantic_kernel.contents import ChatHistory\n",
    "from semantic_kernel.functions import kernel_function\n",
    "from semantic_kernel.kernel import Kernel\n",
    "\n",
    "from dotenv import load_dotenv\n",
    "import os\n",
    "\n",
    "# Load environment variables from .env file\n",
    "load_dotenv()"
   ]
  },
  {
   "cell_type": "code",
   "execution_count": 16,
   "id": "01ad9cb8",
   "metadata": {},
   "outputs": [],
   "source": [
    "chat_history = ChatHistory()\n",
    "chat_history.add_user_message(\"I'd like to go to Saigon on December 30, 2025\")"
   ]
  },
  {
   "cell_type": "code",
   "execution_count": 17,
   "id": "bcf39586",
   "metadata": {},
   "outputs": [],
   "source": [
    "class TravelBookingPlugin:\n",
    "    @kernel_function\n",
    "    async def book_travel(self, destination: Annotated[str, \"Travel destination\"], date: Annotated[str, \"Travel date\"]) -> str:\n",
    "        # Simulate booking logic\n",
    "        return f\"Travel to {destination} on {date} has been successfully booked!\""
   ]
  },
  {
   "cell_type": "code",
   "execution_count": 18,
   "id": "d733f14f",
   "metadata": {},
   "outputs": [],
   "source": [
    "kernel = Kernel()"
   ]
  },
  {
   "cell_type": "code",
   "execution_count": 19,
   "id": "a9f8880d",
   "metadata": {},
   "outputs": [
    {
     "data": {
      "text/plain": [
       "KernelPlugin(name='TravelBookingPlugin', description=None, functions={'book_travel': KernelFunctionFromMethod(metadata=KernelFunctionMetadata(name='book_travel', plugin_name='TravelBookingPlugin', description=None, parameters=[KernelParameterMetadata(name='destination', description='Travel destination', default_value=None, type_='str', is_required=True, type_object=<class 'str'>, schema_data={'type': 'string', 'description': 'Travel destination'}, include_in_function_choices=True), KernelParameterMetadata(name='date', description='Travel date', default_value=None, type_='str', is_required=True, type_object=<class 'str'>, schema_data={'type': 'string', 'description': 'Travel date'}, include_in_function_choices=True)], is_prompt=False, is_asynchronous=True, return_parameter=KernelParameterMetadata(name='return', description='', default_value=None, type_='str', is_required=True, type_object=<class 'str'>, schema_data={'type': 'string'}, include_in_function_choices=True), additional_properties={}), invocation_duration_histogram=<opentelemetry.metrics._internal.instrument._ProxyHistogram object at 0x7fe967dc3c80>, streaming_duration_histogram=<opentelemetry.metrics._internal.instrument._ProxyHistogram object at 0x7fe967dc8ad0>, method=<bound method TravelBookingPlugin.book_travel of <__main__.TravelBookingPlugin object at 0x7fe967dca630>>, stream_method=None)})"
      ]
     },
     "execution_count": 19,
     "metadata": {},
     "output_type": "execute_result"
    }
   ],
   "source": [
    "plugin = TravelBookingPlugin()\n",
    "kernel.add_plugin(plugin, \"TravelBookingPlugin\")"
   ]
  },
  {
   "cell_type": "code",
   "execution_count": 20,
   "id": "29bee953",
   "metadata": {},
   "outputs": [],
   "source": [
    "# Retrieve variables from .env\n",
    "api_key = os.getenv(\"AZURE_OPENAI_API_KEY\")\n",
    "endpoint = os.getenv(\"AZURE_OPENAI_ENDPOINT\")\n",
    "deployment_name = os.getenv(\"AZURE_OPENAI_DEPLOYMENT_NAME\")\n",
    "\n",
    "# Define the Azure OpenAI AI Connector\n",
    "azure_chat_completion = AzureChatCompletion(\n",
    "    api_key=api_key,\n",
    "    endpoint=endpoint,\n",
    "    deployment_name=deployment_name\n",
    ")"
   ]
  },
  {
   "cell_type": "code",
   "execution_count": 21,
   "id": "72932c6b",
   "metadata": {},
   "outputs": [],
   "source": [
    "request_settings = AzureChatPromptExecutionSettings(function_choice_behavior=FunctionChoiceBehavior.Auto())\n"
   ]
  },
  {
   "cell_type": "code",
   "execution_count": 22,
   "id": "2b734df7",
   "metadata": {},
   "outputs": [
    {
     "name": "stdout",
     "output_type": "stream",
     "text": [
      "`Your travel to Saigon on December 30, 2025, has been successfully booked! Safe travels!`\n"
     ]
    }
   ],
   "source": [
    "async def main():\n",
    "    response = await azure_chat_completion.get_chat_message_content(chat_history=chat_history, settings=request_settings, kernel=kernel)\n",
    "    assert response is not None\n",
    "    \n",
    "    \"\"\"\n",
    "    User: Book me a flight to Bangkok.\n",
    "    Model: Sure, I'd love to help you book a flight. Could you please specify the date?\n",
    "    User: I want to travel on December 30, 2025.\n",
    "    Model: Your flight to Bangkok on December 30, 2025, has been successfully booked. Safe travels!\n",
    "    \"\"\"\n",
    "    \n",
    "    print(f\"`{response}`\")\n",
    "    # Output: Your flight to Bangkok on December 30, 2025, has been successfully booked. Safe travels!  \n",
    "\n",
    "    # Add the model's response to our chat history context\n",
    "    chat_history.add_assistant_message(response.content)\n",
    "    \n",
    "import nest_asyncio\n",
    "nest_asyncio.apply()\n",
    "\n",
    "await main()"
   ]
  }
 ],
 "metadata": {
  "kernelspec": {
   "display_name": "Python 3",
   "language": "python",
   "name": "python3"
  },
  "language_info": {
   "codemirror_mode": {
    "name": "ipython",
    "version": 3
   },
   "file_extension": ".py",
   "mimetype": "text/x-python",
   "name": "python",
   "nbconvert_exporter": "python",
   "pygments_lexer": "ipython3",
   "version": "3.12.1"
  }
 },
 "nbformat": 4,
 "nbformat_minor": 5
}
